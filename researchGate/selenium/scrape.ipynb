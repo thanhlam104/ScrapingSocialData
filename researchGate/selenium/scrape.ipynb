{
 "cells": [
  {
   "cell_type": "markdown",
   "metadata": {},
   "source": [
    "## Initialize"
   ]
  },
  {
   "cell_type": "code",
   "execution_count": 1,
   "metadata": {},
   "outputs": [],
   "source": [
    "import profile\n",
    "from numpy import append\n",
    "from selenium import webdriver\n",
    "import time\n",
    "import pandas as pd \n",
    "import json\n",
    "import csv"
   ]
  },
  {
   "cell_type": "markdown",
   "metadata": {},
   "source": [
    "Collect profile links of all HUST staffs and students"
   ]
  },
  {
   "cell_type": "code",
   "execution_count": null,
   "metadata": {},
   "outputs": [],
   "source": [
    "def get_profile(url):\n",
    "    driver = webdriver.Chrome()\n",
    "    driver.get(url)\n",
    "    time.sleep(7)\n",
    "    profiles = []\n",
    "    list = driver.find_elements_by_css_selector('.nova-legacy-e-text--size-l a')\n",
    "    for i in list:\n",
    "        profiles.append(i.get_attribute('href'))\n",
    "    driver.close()\n",
    "    return(profiles)"
   ]
  },
  {
   "cell_type": "code",
   "execution_count": null,
   "metadata": {},
   "outputs": [],
   "source": [
    "hust = 'https://www.researchgate.net/institution/Hanoi-University-of-Science-and-Technology/members'\n",
    "total = []\n",
    "for i in range(1,28):\n",
    "    total += get_profile(hust+f'/{i}')\n",
    "data = pd.DataFrame(total)\n",
    "data.to_csv('profile.csv', index = False, header = False)"
   ]
  },
  {
   "cell_type": "markdown",
   "metadata": {},
   "source": [
    "Read profile links of all HUST staffs and students"
   ]
  },
  {
   "cell_type": "code",
   "execution_count": 2,
   "metadata": {},
   "outputs": [
    {
     "data": {
      "text/plain": [
       "[['https://www.researchgate.net/profile/Michel-Toulouse'],\n",
       " ['https://www.researchgate.net/profile/Thi-Thao-Tran'],\n",
       " ['https://www.researchgate.net/profile/Nguyen-Anh-Tuan-4'],\n",
       " ['https://www.researchgate.net/profile/Vu-Hien-6'],\n",
       " ['https://www.researchgate.net/profile/Van-Truong-Pham'],\n",
       " ['https://www.researchgate.net/profile/Nguyen-Thi-Ngoc-Anh-7'],\n",
       " ['https://www.researchgate.net/profile/Viet-Thanh-Pham-2'],\n",
       " ['https://www.researchgate.net/profile/Thi-Le-5'],\n",
       " ['https://www.researchgate.net/profile/Thoan-Nguyen'],\n",
       " ['https://www.researchgate.net/profile/Thang-Huynh-Quyet']]"
      ]
     },
     "execution_count": 2,
     "metadata": {},
     "output_type": "execute_result"
    }
   ],
   "source": [
    "import csv\n",
    "\n",
    "with open('profile.csv', newline='') as f:\n",
    "    reader = csv.reader(f)\n",
    "    data = list(reader)\n",
    "\n",
    "data[:10]"
   ]
  },
  {
   "cell_type": "markdown",
   "metadata": {},
   "source": [
    "## Scraping"
   ]
  },
  {
   "cell_type": "code",
   "execution_count": 21,
   "metadata": {},
   "outputs": [
    {
     "name": "stdout",
     "output_type": "stream",
     "text": [
      "https://www.researchgate.net/profile/Nhung-Nguyen-Hong-2\n",
      "https://www.researchgate.net/profile/Thang-Tran-Ngoc\n",
      "https://www.researchgate.net/profile/Phan-Le-7\n",
      "https://www.researchgate.net/profile/Trung-Doan-3\n",
      "https://www.researchgate.net/profile/He-Ngo-Van\n",
      "https://www.researchgate.net/profile/Nguyen-Du-7\n",
      "https://www.researchgate.net/profile/Anh-Hoang-49\n",
      "https://www.researchgate.net/profile/Long-Hoang-21\n",
      "https://www.researchgate.net/profile/Nguyen-Anh-Tuyet\n",
      "https://www.researchgate.net/profile/Pham-Hoang\n",
      "https://www.researchgate.net/profile/Tho-Do-Duc\n",
      "https://www.researchgate.net/profile/Vinh-Ha-2\n",
      "https://www.researchgate.net/profile/Tuan-Phung-3\n",
      "https://www.researchgate.net/profile/Anh-Van-6\n",
      "https://www.researchgate.net/profile/Huong-Tran-50\n",
      "https://www.researchgate.net/profile/Truong-Nguyen-74\n",
      "https://www.researchgate.net/profile/Vuong-Hoang-2\n",
      "https://www.researchgate.net/profile/Hoa-Nguyen-135\n",
      "https://www.researchgate.net/profile/Ha-Nguyen-305\n",
      "https://www.researchgate.net/profile/Bui-Hang\n",
      "https://www.researchgate.net/profile/Nguyen-Khac-Hung\n",
      "https://www.researchgate.net/profile/Dung-Ngo-Quoc\n",
      "https://www.researchgate.net/profile/Khanh_Le67\n",
      "https://www.researchgate.net/profile/Le-Ha-Vo\n",
      "https://www.researchgate.net/profile/Yen-Le-Thi\n",
      "https://www.researchgate.net/profile/Thu-Le-103\n",
      "https://www.researchgate.net/profile/Truong-Pham-Thanh\n",
      "https://www.researchgate.net/profile/Lam-Dang-8\n",
      "https://www.researchgate.net/profile/Hoang_Hoang13\n"
     ]
    }
   ],
   "source": [
    "#Start\n",
    "scraped = []\n",
    "\n",
    "driver = webdriver.Chrome()\n",
    "driver.get('https://www.researchgate.net/login')\n",
    "\n",
    "#Fill in login form\n",
    "email = driver.find_element_by_id('input-login')\n",
    "password = driver.find_element_by_id('input-password')\n",
    "\n",
    "email.send_keys('tung.nq194462@sis.hust.edu.vn')\n",
    "password.send_keys('abc123456')\n",
    "\n",
    "login = driver.find_element_by_css_selector('.nova-legacy-c-button--color-blue.nova-legacy-c-button--theme-solid')\n",
    "login.click()\n",
    "time.sleep(1)\n",
    "\n",
    "#Parse each personal profile\n",
    "for url in data:\n",
    "    url = url[0]\n",
    "    driver.get(url)\n",
    "    time.sleep(1)\n",
    "\n",
    "    #Parse basic information\n",
    "    name = driver.find_element_by_css_selector('.nova-legacy-e-text--size-xl').text\n",
    "    tmp = driver.find_elements_by_css_selector('.nova-legacy-e-text div')\n",
    "    researchInterest = tmp[0].text\n",
    "    citation = tmp[1].text\n",
    "    hindex = '--'\n",
    "    if len(tmp)>2:\n",
    "        hindex = tmp[2].text\n",
    "\n",
    "    #parse skills and discipline\n",
    "    disciplines = []\n",
    "    skills = []\n",
    "    sections = driver.find_elements_by_css_selector('.nova-legacy-e-text--spacing-xxs strong')\n",
    "    s = [x.text for x in sections]  \n",
    "\n",
    "    tmp1 = driver.find_elements_by_css_selector('.nova-legacy-c-card__body--spacing-m div.nova-legacy-o-stack__item:nth-of-type(1) li')\n",
    "    tmp1 = [x.text for x in tmp1]\n",
    "    if sections[0].text == 'Disciplines':\n",
    "        disciplines = tmp1\n",
    "    elif sections[0].text == \"Skills and expertise\":\n",
    "        skills = tmp1\n",
    "\n",
    "    if len(sections)>1:\n",
    "        tmp2 = driver.find_elements_by_css_selector('.nova-legacy-c-card__body--spacing-m div:nth-of-type(2) li')\n",
    "        tmp2 = [x.text for x in tmp2]\n",
    "        if sections[1].text == 'Disciplines':\n",
    "            disciplines = tmp2\n",
    "        elif sections[1].text == \"Skills and expertise\":\n",
    "            skills = tmp2\n",
    "\n",
    "    if len(sections)>2: #if statement to avoid NoSuchElement error\n",
    "        tmp3 = driver.find_elements_by_css_selector('.nova-legacy-c-card__body--spacing-m div:nth-of-type(3) li')\n",
    "        tmp3 = [x.text for x in tmp3]\n",
    "        if sections[2].text == \"Skills and expertise\":\n",
    "            skills = tmp3\n",
    "    \n",
    "\n",
    "    \n",
    "    #Parse following\n",
    "    following = []\n",
    "    try:\n",
    "        viewbutton = driver.find_element_by_css_selector('.nova-legacy-o-stack__item:nth-child(1) .nova-legacy-c-card__footer-content .nova-legacy-c-button__label')\n",
    "    except:\n",
    "        viewbutton = 0\n",
    "    if viewbutton:\n",
    "        fl_num = driver.find_element_by_css_selector('div.nova-legacy-o-stack__item:nth-of-type(1) div.nova-legacy-e-text--color-grey-500').text\n",
    "        fl_num = int(fl_num.split(' ')[-1][1:-1])\n",
    "        viewbutton.click()\n",
    "        time.sleep(0.5)\n",
    "        list = driver.find_element_by_class_name('profile-follow-modal__modal-content')\n",
    "        for j in range(fl_num//10):\n",
    "            driver.execute_script(\"arguments[0].scrollTop = arguments[0].scrollHeight\", list)\n",
    "            time.sleep(0.5)\n",
    "        tmp = driver.find_elements_by_css_selector('span span .nova-legacy-e-text--color-inherit a')\n",
    "        for e in tmp:\n",
    "            l = e.get_attribute('href')\n",
    "            l = l.split('?')[0]\n",
    "            if l != url and [l] in data:\n",
    "                following.append(l)\n",
    "\n",
    "    time.sleep(0.5)\n",
    "    # Parse RG score\n",
    "    rgscore = 0\n",
    "    tmp = driver.find_elements_by_css_selector('a.nova-legacy-c-nav__item')\n",
    "    if len(tmp) >2:\n",
    "        driver.get(url+'/scores')\n",
    "        rgscore = driver.find_element_by_css_selector('.rg-score-section-inner div.number').text\n",
    "    \n",
    "    final_profile = {'url': url, 'name': name, 'research_interest': researchInterest, \n",
    "                    'citation': citation, 'h-index': hindex, 'RG score': rgscore,\n",
    "                    'disciplines': disciplines, 'skills': skills, 'following':following}\n",
    "    scraped.append(final_profile)\n",
    "\n",
    "\n",
    "with open('final_data.json', 'w', encoding='utf-8') as f:\n",
    "    json.dump(scraped, f, ensure_ascii=False, indent = 4)\n",
    "\n",
    "\n",
    "\n"
   ]
  },
  {
   "cell_type": "code",
   "execution_count": 30,
   "metadata": {},
   "outputs": [
    {
     "name": "stdout",
     "output_type": "stream",
     "text": [
      "2652\n"
     ]
    }
   ],
   "source": [
    "import os\n",
    "profiles = []\n",
    "\n",
    "with open('final/final_data.json', encoding='utf-8' ) as f:\n",
    "    profiles = json.load(f)\n",
    "\n",
    "\n",
    "\n",
    "# print(len(profiles))\n",
    "# with open('final_data.json', 'w', encoding='utf-8') as f:\n",
    "#     json.dump(profiles, f, ensure_ascii=False, indent = 4)\n",
    "# errors = []\n",
    "# for p in data:\n",
    "#     if p[0] not in success:\n",
    "#         errors.append(p[0])\n",
    "# print(len(errors))"
   ]
  },
  {
   "cell_type": "code",
   "execution_count": 4,
   "metadata": {},
   "outputs": [],
   "source": [
    "\n",
    "    # # Parse research page\n",
    "    # driver.get(url+'/research')\n",
    "    # SCROLL_PAUSE_TIME =1\n",
    "\n",
    "    # # Get scroll height\n",
    "    # last_height = driver.execute_script(\"return document.body.scrollHeight\")\n",
    "\n",
    "    # while True:\n",
    "    #     # Scroll down to bottom\n",
    "    #     driver.execute_script(\"window.scrollTo(0, document.body.scrollHeight);\")\n",
    "\n",
    "    #     # Wait to load page\n",
    "    #     time.sleep(SCROLL_PAUSE_TIME)\n",
    "\n",
    "    #     # Calculate new scroll height and compare with last scroll height\n",
    "    #     new_height = driver.execute_script(\"return document.body.scrollHeight\")\n",
    "    #     if new_height == last_height:\n",
    "    #         break\n",
    "    #     last_height = new_height\n",
    "\n",
    "    # tmp4= driver.find_elements_by_css_selector('.nova-legacy-e-text--size-l a')\n",
    "    # researchs = [x.get_attribute('href') for x in tmp4]\n",
    "    # author_links = []\n",
    "    # for link in researchs:\n",
    "    #     driver.get(link)\n",
    "        \n",
    "\n",
    "\n",
    "    #     try:\n",
    "    #         button = driver.find_element_by_css_selector('.nova-legacy-e-list__item button')\n",
    "    #         button.click()\n",
    "    #     except:\n",
    "            \n",
    "    #         tmp5 = driver.find_elements_by_css_selector('a.research-detail-author')\n",
    "    #         for e in tmp5:\n",
    "    #             l = e.get_attribute('href')\n",
    "    #             l = l.split('?')[0]\n",
    "    #             if l != url and [l] in data:\n",
    "    #                 author_links.append(l)"
   ]
  },
  {
   "cell_type": "code",
   "execution_count": 31,
   "metadata": {},
   "outputs": [],
   "source": [
    "relationship = []\n",
    "for p in profiles:\n",
    "    for url in p['following']:\n",
    "        relationship.append([p['url'], url])\n",
    "relationship = pd.DataFrame(relationship)\n",
    "relationship.to_csv('relationship.csv',index=False,header=False)"
   ]
  },
  {
   "cell_type": "code",
   "execution_count": 35,
   "metadata": {},
   "outputs": [],
   "source": [
    "for p in profiles:\n",
    "    del p['disciplines']\n",
    "    del p['skills']\n",
    "with open('final/basic_profiles.json','w', encoding='utf-8') as f:\n",
    "    json.dump(profiles,f,ensure_ascii=False,indent=4)\n"
   ]
  },
  {
   "cell_type": "code",
   "execution_count": null,
   "metadata": {},
   "outputs": [],
   "source": []
  }
 ],
 "metadata": {
  "interpreter": {
   "hash": "723d4b7bc280cd31fdada53ad6420192b9a3a8d60631096143cc718cb9440dc1"
  },
  "kernelspec": {
   "display_name": "Python 3.8.0 64-bit",
   "language": "python",
   "name": "python3"
  },
  "language_info": {
   "codemirror_mode": {
    "name": "ipython",
    "version": 3
   },
   "file_extension": ".py",
   "mimetype": "text/x-python",
   "name": "python",
   "nbconvert_exporter": "python",
   "pygments_lexer": "ipython3",
   "version": "3.8.0"
  },
  "orig_nbformat": 4
 },
 "nbformat": 4,
 "nbformat_minor": 2
}
