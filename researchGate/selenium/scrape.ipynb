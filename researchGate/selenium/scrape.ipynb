{
 "cells": [
  {
   "cell_type": "markdown",
   "metadata": {},
   "source": [
    "## Initialize"
   ]
  },
  {
   "cell_type": "code",
   "execution_count": 1,
   "metadata": {},
   "outputs": [],
   "source": [
    "import profile\n",
    "from numpy import append\n",
    "from selenium import webdriver\n",
    "import time\n",
    "import pandas as pd "
   ]
  },
  {
   "cell_type": "markdown",
   "metadata": {},
   "source": [
    "Collect profile links of all HUST staffs and students"
   ]
  },
  {
   "cell_type": "code",
   "execution_count": null,
   "metadata": {},
   "outputs": [],
   "source": [
    "def get_profile(url):\n",
    "    driver = webdriver.Chrome()\n",
    "    driver.get(url)\n",
    "    time.sleep(7)\n",
    "    profiles = []\n",
    "    list = driver.find_elements_by_css_selector('.nova-legacy-e-text--size-l a')\n",
    "    for i in list:\n",
    "        profiles.append(i.get_attribute('href'))\n",
    "    driver.close()\n",
    "    return(profiles)"
   ]
  },
  {
   "cell_type": "code",
   "execution_count": null,
   "metadata": {},
   "outputs": [],
   "source": [
    "hust = 'https://www.researchgate.net/institution/Hanoi-University-of-Science-and-Technology/members'\n",
    "total = []\n",
    "for i in range(1,28):\n",
    "    total += get_profile(hust+f'/{i}')\n",
    "data = pd.DataFrame(total)\n",
    "data.to_csv('profile.csv', index = False, header = False)"
   ]
  },
  {
   "cell_type": "markdown",
   "metadata": {},
   "source": [
    "Read profile links of all HUST staffs and students"
   ]
  },
  {
   "cell_type": "code",
   "execution_count": 2,
   "metadata": {},
   "outputs": [
    {
     "data": {
      "text/plain": [
       "[['https://www.researchgate.net/profile/Michel-Toulouse'],\n",
       " ['https://www.researchgate.net/profile/Thi-Thao-Tran'],\n",
       " ['https://www.researchgate.net/profile/Nguyen-Anh-Tuan-4'],\n",
       " ['https://www.researchgate.net/profile/Vu-Hien-6'],\n",
       " ['https://www.researchgate.net/profile/Van-Truong-Pham'],\n",
       " ['https://www.researchgate.net/profile/Nguyen-Thi-Ngoc-Anh-7'],\n",
       " ['https://www.researchgate.net/profile/Viet-Thanh-Pham-2'],\n",
       " ['https://www.researchgate.net/profile/Thi-Le-5'],\n",
       " ['https://www.researchgate.net/profile/Thoan-Nguyen'],\n",
       " ['https://www.researchgate.net/profile/Thang-Huynh-Quyet']]"
      ]
     },
     "execution_count": 2,
     "metadata": {},
     "output_type": "execute_result"
    }
   ],
   "source": [
    "import csv\n",
    "\n",
    "with open('profile.csv', newline='') as f:\n",
    "    reader = csv.reader(f)\n",
    "    data = list(reader)\n",
    "\n",
    "data[:10]"
   ]
  },
  {
   "cell_type": "markdown",
   "metadata": {},
   "source": [
    "## Scraping"
   ]
  },
  {
   "cell_type": "code",
   "execution_count": null,
   "metadata": {},
   "outputs": [],
   "source": [
    "#Start\n",
    "driver = webdriver.Chrome()\n",
    "driver.get('https://www.researchgate.net/login')\n",
    "\n",
    "#Fill in login form\n",
    "email = driver.find_element_by_id('input-login')\n",
    "password = driver.find_element_by_id('input-password')\n",
    "email.send_keys('lam.dt194442@sis.hust.edu.vn')\n",
    "password.send_keys('Lam04102001')\n",
    "login = driver.find_element_by_css_selector('.nova-legacy-c-button--color-blue.nova-legacy-c-button--theme-solid')\n",
    "login.click()\n",
    "time.sleep(1)\n",
    "\n",
    "#Parse each personal profile\n",
    "for url in data[3:4]:\n",
    "    url = url[0]\n",
    "    driver.get(url)\n",
    "    time.sleep(1)\n",
    "    #Parse basic information\n",
    "    name = driver.find_element_by_css_selector('.nova-legacy-e-text--size-xl').text\n",
    "    tmp = driver.find_elements_by_css_selector('.nova-legacy-e-text--color-inherit')\n",
    "    researchInterest = tmp[0].text\n",
    "    citation = tmp[1].text\n",
    "    hindex = tmp[2].text\n",
    "\n",
    "    #parse skills and discipline\n",
    "    disciplines = []\n",
    "    skills = []\n",
    "    sections = driver.find_elements_by_css_selector('.nova-legacy-e-text--spacing-xxs strong')\n",
    "    s = [x.text for x in sections]  \n",
    "\n",
    "    tmp1 = driver.find_elements_by_css_selector('.nova-legacy-c-card__body--spacing-m div.nova-legacy-o-stack__item:nth-of-type(1) li')\n",
    "    tmp1 = [x.text for x in tmp1]\n",
    "    if sections[0].text == 'Disciplines':\n",
    "        disciplines = tmp1\n",
    "    elif sections[0].text == \"Skills and expertise\":\n",
    "        skills = tmp1\n",
    "\n",
    "    tmp2 = driver.find_elements_by_css_selector('.nova-legacy-c-card__body--spacing-m div:nth-of-type(2) li')\n",
    "    tmp2 = [x.text for x in tmp2]\n",
    "    if sections[1].text == 'Disciplines':\n",
    "        disciplines = tmp2\n",
    "    elif sections[1].text == \"Skills and expertise\":\n",
    "        skills = tmp2\n",
    "\n",
    "    if len(sections)>2: #if statement to avoid NoSuchElement error\n",
    "        tmp3 = driver.find_elements_by_css_selector('.nova-legacy-c-card__body--spacing-m div:nth-of-type(3) li')\n",
    "        tmp3 = [x.text for x in tmp3]\n",
    "        if sections[2].text == \"Skills and expertise\":\n",
    "            skills = tmp3\n",
    "\n",
    "    # Parse RG score\n",
    "    driver.get(url+'/scores')\n",
    "    rgscore = driver.find_element_by_css_selector('.rg-score-section-inner div.number').text\n",
    "\n",
    "\n",
    "    # # Parse research page\n",
    "    # driver.get(url+'/research')\n",
    "    # SCROLL_PAUSE_TIME =1\n",
    "\n",
    "    # # Get scroll height\n",
    "    # last_height = driver.execute_script(\"return document.body.scrollHeight\")\n",
    "\n",
    "    # while True:\n",
    "    #     # Scroll down to bottom\n",
    "    #     driver.execute_script(\"window.scrollTo(0, document.body.scrollHeight);\")\n",
    "\n",
    "    #     # Wait to load page\n",
    "    #     time.sleep(SCROLL_PAUSE_TIME)\n",
    "\n",
    "    #     # Calculate new scroll height and compare with last scroll height\n",
    "    #     new_height = driver.execute_script(\"return document.body.scrollHeight\")\n",
    "    #     if new_height == last_height:\n",
    "    #         break\n",
    "    #     last_height = new_height\n",
    "\n",
    "    # tmp4= driver.find_elements_by_css_selector('.nova-legacy-e-text--size-l a')\n",
    "    # researchs = [x.get_attribute('href') for x in tmp4]\n",
    "    # author_links = []\n",
    "    # for link in researchs:\n",
    "    #     driver.get(link)\n",
    "        \n",
    "    #     try:\n",
    "    #         button = driver.find_element_by_css_selector('.nova-legacy-e-list__item button')\n",
    "    #         button.click()\n",
    "    #     except:\n",
    "            \n",
    "    #         tmp5 = driver.find_elements_by_css_selector('a.research-detail-author')\n",
    "    #         for e in tmp5:\n",
    "    #             l = e.get_attribute('href')\n",
    "    #             l = l.split('?')[0]\n",
    "    #             if l != url and [l] in data:\n",
    "    #                 author_links.append(l)\n",
    "\n",
    "\n",
    "    print(name,'\\t', researchInterest,'\\t', citation,'\\t', hindex,'\\t', rgscore)\n",
    "    print(disciplines)\n",
    "    print(skills)\n",
    "    print(len(researchs))\n",
    "    print(author_links)\n",
    "\n",
    "\n",
    "\n",
    "\n"
   ]
  },
  {
   "cell_type": "code",
   "execution_count": null,
   "metadata": {},
   "outputs": [],
   "source": []
  }
 ],
 "metadata": {
  "interpreter": {
   "hash": "723d4b7bc280cd31fdada53ad6420192b9a3a8d60631096143cc718cb9440dc1"
  },
  "kernelspec": {
   "display_name": "Python 3.8.0 64-bit",
   "language": "python",
   "name": "python3"
  },
  "language_info": {
   "codemirror_mode": {
    "name": "ipython",
    "version": 3
   },
   "file_extension": ".py",
   "mimetype": "text/x-python",
   "name": "python",
   "nbconvert_exporter": "python",
   "pygments_lexer": "ipython3",
   "version": "3.8.0"
  },
  "orig_nbformat": 4
 },
 "nbformat": 4,
 "nbformat_minor": 2
}
