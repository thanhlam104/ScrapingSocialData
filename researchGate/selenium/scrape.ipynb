{
 "cells": [
  {
   "cell_type": "markdown",
   "metadata": {},
   "source": [
    "## Initialize"
   ]
  },
  {
   "cell_type": "code",
   "execution_count": 43,
   "metadata": {},
   "outputs": [],
   "source": [
    "import profile\n",
    "from numpy import append\n",
    "from selenium import webdriver\n",
    "import time\n",
    "import pandas as pd \n",
    "import json\n",
    "import csv"
   ]
  },
  {
   "cell_type": "markdown",
   "metadata": {},
   "source": [
    "Collect profile links of all HUST staffs and students"
   ]
  },
  {
   "cell_type": "code",
   "execution_count": null,
   "metadata": {},
   "outputs": [],
   "source": [
    "def get_profile(url):\n",
    "    driver = webdriver.Chrome()\n",
    "    driver.get(url)\n",
    "    time.sleep(7)\n",
    "    profiles = []\n",
    "    list = driver.find_elements_by_css_selector('.nova-legacy-e-text--size-l a')\n",
    "    for i in list:\n",
    "        profiles.append(i.get_attribute('href'))\n",
    "    driver.close()\n",
    "    return(profiles)"
   ]
  },
  {
   "cell_type": "code",
   "execution_count": null,
   "metadata": {},
   "outputs": [],
   "source": [
    "hust = 'https://www.researchgate.net/institution/Hanoi-University-of-Science-and-Technology/members'\n",
    "total = []\n",
    "for i in range(1,28):\n",
    "    total += get_profile(hust+f'/{i}')\n",
    "data = pd.DataFrame(total)\n",
    "data.to_csv('profile.csv', index = False, header = False)"
   ]
  },
  {
   "cell_type": "markdown",
   "metadata": {},
   "source": [
    "Read profile links of all HUST staffs and students"
   ]
  },
  {
   "cell_type": "code",
   "execution_count": 7,
   "metadata": {},
   "outputs": [
    {
     "data": {
      "text/plain": [
       "[['https://www.researchgate.net/profile/Quang-Ngo-5'],\n",
       " ['https://www.researchgate.net/profile/Tuan-Do-37'],\n",
       " ['https://www.researchgate.net/profile/Hieu-Nguyen-237'],\n",
       " ['https://www.researchgate.net/profile/Hung-Vu-29'],\n",
       " ['https://www.researchgate.net/profile/Ha-Nguyen-338'],\n",
       " ['https://www.researchgate.net/profile/Nghia-Nguyen-88'],\n",
       " ['https://www.researchgate.net/profile/Long-Duong-11'],\n",
       " ['https://www.researchgate.net/profile/Nhan-Le-Trong'],\n",
       " ['https://www.researchgate.net/profile/Duyen-Ho-5'],\n",
       " ['https://www.researchgate.net/profile/Nguyen-Nam-75']]"
      ]
     },
     "execution_count": 7,
     "metadata": {},
     "output_type": "execute_result"
    }
   ],
   "source": [
    "import csv\n",
    "\n",
    "with open('profile.csv', newline='') as f:\n",
    "    reader = csv.reader(f)\n",
    "    data = list(reader)\n",
    "\n",
    "data[1500:1510]"
   ]
  },
  {
   "cell_type": "markdown",
   "metadata": {},
   "source": [
    "## Scraping"
   ]
  },
  {
   "cell_type": "code",
   "execution_count": 39,
   "metadata": {},
   "outputs": [
    {
     "name": "stdout",
     "output_type": "stream",
     "text": [
      "Michel Toulouse \tResearchInterest:  1,146 \tCitation:  1963 \th-index:  26 \tRGscore:  0\n",
      "[]\n",
      "Thi-Thao Tran \tResearchInterest:  163.4 \tCitation:  264 \th-index:  10 \tRGscore:  0\n",
      "['https://www.researchgate.net/profile/Hai-Anh-Tran-3', 'https://www.researchgate.net/profile/Nam-Pham-Ngoc-2', 'https://www.researchgate.net/profile/Minh-Thuy-Le', 'https://www.researchgate.net/profile/Thanh-Hai-Tran', 'https://www.researchgate.net/profile/Huy-Nguyen-Duc', 'https://www.researchgate.net/profile/Van-Truong-Pham']\n",
      "Nguyen Anh Tuan \tResearchInterest:  170.8 \tCitation:  154 \th-index:  8 \tRGscore:  0\n",
      "['https://www.researchgate.net/profile/Nguyen-Anh-Tuan-11', 'https://www.researchgate.net/profile/Nguyen-Tue-3', 'https://www.researchgate.net/profile/Do-Lien']\n",
      "Vu Xuan Hien \tResearchInterest:  220.4 \tCitation:  279 \th-index:  9 \tRGscore:  0\n",
      "['https://www.researchgate.net/profile/Ha-Le-32', 'https://www.researchgate.net/profile/Chu-Hung-2', 'https://www.researchgate.net/profile/Tho-Do-Duc', 'https://www.researchgate.net/profile/Le-Lich', 'https://www.researchgate.net/profile/Luong-Phuoc', 'https://www.researchgate.net/profile/Viet-Thanh-Pham-2', 'https://www.researchgate.net/profile/Nguyen-Huu-Dung-2', 'https://www.researchgate.net/profile/Thong-Trinh-2', 'https://www.researchgate.net/profile/Nguyen-Hong-5', 'https://www.researchgate.net/profile/Vu-Tuoc', 'https://www.researchgate.net/profile/Thoan-Nguyen', 'https://www.researchgate.net/profile/Dang-Thi-Thanh-Le', 'https://www.researchgate.net/profile/Trung-Nguyen-93', 'https://www.researchgate.net/profile/Vuong-Pham-6', 'https://www.researchgate.net/profile/Do-Nghiep', 'https://www.researchgate.net/profile/Dien-Le-Quang', 'https://www.researchgate.net/profile/Cong-Tu-Nguyen', 'https://www.researchgate.net/profile/N-X-Quyen', 'https://www.researchgate.net/profile/Dang-Duc-Vuong', 'https://www.researchgate.net/profile/Vu-Minh-12', 'https://www.researchgate.net/profile/Quy-Nguyen-34', 'https://www.researchgate.net/profile/Pham-Phi-Hung', 'https://www.researchgate.net/profile/Phan-Huy-Hoang']\n",
      "Van-Truong Pham \tResearchInterest:  261.7 \tCitation:  460 \th-index:  11 \tRGscore:  0\n",
      "['https://www.researchgate.net/profile/Thi-Thao-Tran']\n",
      "Nguyen Thi Ngoc Anh \tResearchInterest:  205.0 \tCitation:  241 \th-index:  6 \tRGscore:  0\n",
      "['https://www.researchgate.net/profile/Thang-Tran-Ngoc', 'https://www.researchgate.net/profile/Nguyen-Hong-5', 'https://www.researchgate.net/profile/Thanh-Phan-Xuan', 'https://www.researchgate.net/profile/Bui-Tuan-9', 'https://www.researchgate.net/profile/Son-Ta-2']\n",
      "Viet-Thanh Pham \tResearchInterest:  5,831 \tCitation:  7115 \th-index:  51 \tRGscore:  0\n",
      "[]\n",
      "Thi Lan Le \tResearchInterest:  872.2 \tCitation:  970 \th-index:  17 \tRGscore:  0\n",
      "['https://www.researchgate.net/profile/Viet-Duc-Le-3', 'https://www.researchgate.net/profile/Viet-Dung-Nguyen-3', 'https://www.researchgate.net/profile/Thu_Hien_Le3', 'https://www.researchgate.net/profile/Minh-Thang-Nguyen-3', 'https://www.researchgate.net/profile/Thuybinh-Nguyen', 'https://www.researchgate.net/profile/Van-Nguyen-156', 'https://www.researchgate.net/profile/Trinh-Vu', 'https://www.researchgate.net/profile/Trung-Kien-Dao', 'https://www.researchgate.net/profile/Dinh-Sang', 'https://www.researchgate.net/profile/Thanh-Hai-Tran', 'https://www.researchgate.net/profile/Vu-Hai', 'https://www.researchgate.net/profile/Huong-Nguyen-24', 'https://www.researchgate.net/profile/Tien-Nguyen-34']\n",
      "Thoan Hoang Nguyen \tResearchInterest:  164.9 \tCitation:  209 \th-index:  6 \tRGscore:  0\n",
      "['https://www.researchgate.net/profile/Chau-Nguyen-Thi-Minh', 'https://www.researchgate.net/profile/Trang-Ngo-37', 'https://www.researchgate.net/profile/Quynh-Pham-60', 'https://www.researchgate.net/profile/Tam-Phan-26', 'https://www.researchgate.net/profile/Nguyen-Trang-143', 'https://www.researchgate.net/profile/Pham-Hoang-13', 'https://www.researchgate.net/profile/Bang-Nguyen-35', 'https://www.researchgate.net/profile/Le-Son-25', 'https://www.researchgate.net/profile/Yen-Nguyen-205', 'https://www.researchgate.net/profile/Huong-Do-31', 'https://www.researchgate.net/profile/Hieu-Nguyen-304', 'https://www.researchgate.net/profile/Dinh-Hoang-7', 'https://www.researchgate.net/profile/Vu-Truong-17', 'https://www.researchgate.net/profile/Tung-Ha-8', 'https://www.researchgate.net/profile/Linh-Nguyen-864', 'https://www.researchgate.net/profile/Dao-Tuan-6', 'https://www.researchgate.net/profile/Vu-Tuoc', 'https://www.researchgate.net/profile/Vu-Hien-6', 'https://www.researchgate.net/profile/Do-Truong', 'https://www.researchgate.net/profile/Nguyen-Hung-9', 'https://www.researchgate.net/profile/Quang-Vu-Van-2', 'https://www.researchgate.net/profile/Chi-Nguyen-200', 'https://www.researchgate.net/profile/Nguyen-Duc-Hung-5', 'https://www.researchgate.net/profile/Bui-Minh-11', 'https://www.researchgate.net/profile/Pham-Lewis', 'https://www.researchgate.net/profile/Quang-Ma-2', 'https://www.researchgate.net/profile/Minh-Vu-73', 'https://www.researchgate.net/profile/Ngan-Tran-98', 'https://www.researchgate.net/profile/Anh-Vuong-12', 'https://www.researchgate.net/profile/Thuy-Nguyen-386', 'https://www.researchgate.net/profile/Ngo-Tuan-8', 'https://www.researchgate.net/profile/Bach-Vu-Hoang', 'https://www.researchgate.net/profile/Duc-Dau', 'https://www.researchgate.net/profile/Tran-Trang-51', 'https://www.researchgate.net/profile/Tuan-Vu-43', 'https://www.researchgate.net/profile/Minh-Autumn', 'https://www.researchgate.net/profile/Khanh-Tran-95', 'https://www.researchgate.net/profile/Kinh-Nguyen-Thai', 'https://www.researchgate.net/profile/Huy-Hoang-Nguyen-11', 'https://www.researchgate.net/profile/Huyen-Pham-Thi-Khanh', 'https://www.researchgate.net/profile/Bui-Ngoc-Thanh-Hung-2', 'https://www.researchgate.net/profile/Tran-Quang-8']\n",
      "Thang Huynh Quyet \tResearchInterest:  297.6 \tCitation:  254 \th-index:  8 \tRGscore:  0\n",
      "['https://www.researchgate.net/profile/Ngoc-Tuan-Nguyen-3']\n"
     ]
    }
   ],
   "source": [
    "from selenium.webdriver.common.keys import Keys\n",
    "\n",
    "#Start\n",
    "scraped = []\n",
    "error = []\n",
    "driver = webdriver.Chrome()\n",
    "driver.get('https://www.researchgate.net/login')\n",
    "\n",
    "#Fill in login form\n",
    "email = driver.find_element_by_id('input-login')\n",
    "password = driver.find_element_by_id('input-password')\n",
    "email.send_keys('lam.dt194442@sis.hust.edu.vn')\n",
    "password.send_keys('Lam04102001')\n",
    "login = driver.find_element_by_css_selector('.nova-legacy-c-button--color-blue.nova-legacy-c-button--theme-solid')\n",
    "login.click()\n",
    "time.sleep(1)\n",
    "\n",
    "#Parse each personal profile\n",
    "for i in range(26):\n",
    "    for url in data[i*100:i*100+100]:\n",
    "        try: \n",
    "            url = url[0]\n",
    "            driver.get(url)\n",
    "            time.sleep(1)\n",
    "            #Parse basic information\n",
    "            name = driver.find_element_by_css_selector('.nova-legacy-e-text--size-xl').text\n",
    "            tmp = driver.find_elements_by_css_selector('.nova-legacy-e-text div')\n",
    "            researchInterest = tmp[0].text\n",
    "            citation = tmp[1].text\n",
    "            hindex = '--'\n",
    "            if len(tmp)>2:\n",
    "                hindex = tmp[2].text\n",
    "\n",
    "            #parse skills and discipline\n",
    "            disciplines = []\n",
    "            skills = []\n",
    "            sections = driver.find_elements_by_css_selector('.nova-legacy-e-text--spacing-xxs strong')\n",
    "            s = [x.text for x in sections]  \n",
    "\n",
    "            tmp1 = driver.find_elements_by_css_selector('.nova-legacy-c-card__body--spacing-m div.nova-legacy-o-stack__item:nth-of-type(1) li')\n",
    "            tmp1 = [x.text for x in tmp1]\n",
    "            if sections[0].text == 'Disciplines':\n",
    "                disciplines = tmp1\n",
    "            elif sections[0].text == \"Skills and expertise\":\n",
    "                skills = tmp1\n",
    "\n",
    "            if len(sections)>2:\n",
    "                tmp2 = driver.find_elements_by_css_selector('.nova-legacy-c-card__body--spacing-m div:nth-of-type(2) li')\n",
    "                tmp2 = [x.text for x in tmp2]\n",
    "                if sections[1].text == 'Disciplines':\n",
    "                    disciplines = tmp2\n",
    "                elif sections[1].text == \"Skills and expertise\":\n",
    "                    skills = tmp2\n",
    "\n",
    "            if len(sections)>2: #if statement to avoid NoSuchElement error\n",
    "                tmp3 = driver.find_elements_by_css_selector('.nova-legacy-c-card__body--spacing-m div:nth-of-type(3) li')\n",
    "                tmp3 = [x.text for x in tmp3]\n",
    "                if sections[2].text == \"Skills and expertise\":\n",
    "                    skills = tmp3\n",
    "            \n",
    "\n",
    "            \n",
    "            #Parse following\n",
    "            following = []\n",
    "            try:\n",
    "                viewbutton = driver.find_element_by_css_selector('.nova-legacy-o-stack__item:nth-child(1) .nova-legacy-c-card__footer-content .nova-legacy-c-button__label')\n",
    "            except:\n",
    "                viewbutton = 0\n",
    "            if viewbutton:\n",
    "                fl_num = driver.find_element_by_css_selector('div.nova-legacy-o-stack__item:nth-of-type(1) div.nova-legacy-e-text--color-grey-500').text\n",
    "                fl_num = int(fl_num.split(' ')[-1][1:-1])\n",
    "                viewbutton.click()\n",
    "                time.sleep(0.5)\n",
    "                list = driver.find_element_by_class_name('profile-follow-modal__modal-content')\n",
    "                for i in range(fl_num//10):\n",
    "                    driver.execute_script(\"arguments[0].scrollTop = arguments[0].scrollHeight\", list)\n",
    "                    time.sleep(0.5)\n",
    "                tmp = driver.find_elements_by_css_selector('span span .nova-legacy-e-text--color-inherit a')\n",
    "                for e in tmp:\n",
    "                    l = e.get_attribute('href')\n",
    "                    l = l.split('?')[0]\n",
    "                    if l != url and [l] in data:\n",
    "                        following.append(l)\n",
    "            time.sleep(0.5)\n",
    "            # Parse RG score\n",
    "            rgscore = 0\n",
    "            tmp = driver.find_elements_by_css_selector('a.nova-legacy-c-nav__item')\n",
    "            if len(tmp) >2:\n",
    "                driver.get(url+'/scores')\n",
    "                rgscore = driver.find_element_by_css_selector('.rg-score-section-inner div.number').text\n",
    "            \n",
    "            final_profile = {'url': url, 'name': name, 'research_interest': researchInterest, \n",
    "                            'citation': citation, 'h-index': hindex, 'RG score': rgscore,\n",
    "                            'disciplines': disciplines, 'skills': skills, 'following':following}\n",
    "            scraped.append(final_profile)\n",
    "        except:\n",
    "            error.append(url)\n",
    "\n",
    "\n",
    "    with open('data.json', 'w', encoding='utf-8') as f:\n",
    "        json.dump(scraped, f, ensure_ascii=False, indent = 4)\n",
    "    with open('error.csv', 'w') as f:\n",
    "        write = csv.writer(f)\n",
    "        write.writerow(error)\n",
    "\n",
    "    # \n",
    "\n",
    "\n",
    "    # # Parse research page\n",
    "    # driver.get(url+'/research')\n",
    "    # SCROLL_PAUSE_TIME =1\n",
    "\n",
    "    # # Get scroll height\n",
    "    # last_height = driver.execute_script(\"return document.body.scrollHeight\")\n",
    "\n",
    "    # while True:\n",
    "    #     # Scroll down to bottom\n",
    "    #     driver.execute_script(\"window.scrollTo(0, document.body.scrollHeight);\")\n",
    "\n",
    "    #     # Wait to load page\n",
    "    #     time.sleep(SCROLL_PAUSE_TIME)\n",
    "\n",
    "    #     # Calculate new scroll height and compare with last scroll height\n",
    "    #     new_height = driver.execute_script(\"return document.body.scrollHeight\")\n",
    "    #     if new_height == last_height:\n",
    "    #         break\n",
    "    #     last_height = new_height\n",
    "\n",
    "    # tmp4= driver.find_elements_by_css_selector('.nova-legacy-e-text--size-l a')\n",
    "    # researchs = [x.get_attribute('href') for x in tmp4]\n",
    "    # author_links = []\n",
    "    # for link in researchs:\n",
    "    #     driver.get(link)\n",
    "        \n",
    "    #     try:\n",
    "    #         button = driver.find_element_by_css_selector('.nova-legacy-e-list__item button')\n",
    "    #         button.click()\n",
    "    #     except:\n",
    "            \n",
    "    #         tmp5 = driver.find_elements_by_css_selector('a.research-detail-author')\n",
    "    #         for e in tmp5:\n",
    "    #             l = e.get_attribute('href')\n",
    "    #             l = l.split('?')[0]\n",
    "    #             if l != url and [l] in data:\n",
    "    #                 author_links.append(l)\n",
    "\n",
    "\n",
    "    # print(name,'\\tResearchInterest: ', researchInterest,'\\tCitation: ', citation,'\\th-index: ', hindex,'\\tRGscore: ', rgscore)\n",
    "    # print(following)\n",
    "    # print(disciplines)\n",
    "    # print(skills)\n",
    "   \n",
    "\n",
    "\n",
    "\n",
    "\n",
    "\n"
   ]
  },
  {
   "cell_type": "code",
   "execution_count": 42,
   "metadata": {},
   "outputs": [],
   "source": [
    "import json\n",
    "with open('data.json', 'w', encoding='utf-8') as f:\n",
    "    json.dump(data , f, ensure_ascii=False, indent = 4)\n"
   ]
  }
 ],
 "metadata": {
  "interpreter": {
   "hash": "723d4b7bc280cd31fdada53ad6420192b9a3a8d60631096143cc718cb9440dc1"
  },
  "kernelspec": {
   "display_name": "Python 3.8.0 64-bit",
   "language": "python",
   "name": "python3"
  },
  "language_info": {
   "codemirror_mode": {
    "name": "ipython",
    "version": 3
   },
   "file_extension": ".py",
   "mimetype": "text/x-python",
   "name": "python",
   "nbconvert_exporter": "python",
   "pygments_lexer": "ipython3",
   "version": "3.8.0"
  },
  "orig_nbformat": 4
 },
 "nbformat": 4,
 "nbformat_minor": 2
}
